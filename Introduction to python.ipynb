{
 "cells": [
  {
   "cell_type": "markdown",
   "metadata": {},
   "source": [
    "### python basics\n",
    "\n"
   ]
  },
  {
   "cell_type": "code",
   "execution_count": 5,
   "metadata": {},
   "outputs": [
    {
     "name": "stdout",
     "output_type": "stream",
     "text": [
      "10\n",
      "10.5\n",
      "<class 'int'>\n",
      "<class 'float'>\n"
     ]
    }
   ],
   "source": [
    "a=10\n",
    "b=10.5\n",
    "print(a)\n",
    "print(b)\n",
    "print(type(a))\n",
    "print(type(b))"
   ]
  },
  {
   "cell_type": "code",
   "execution_count": 2,
   "metadata": {},
   "outputs": [],
   "source": [
    "b=100\n"
   ]
  },
  {
   "cell_type": "code",
   "execution_count": 6,
   "metadata": {},
   "outputs": [
    {
     "name": "stdout",
     "output_type": "stream",
     "text": [
      "<class 'float'>\n"
     ]
    }
   ],
   "source": [
    "print(type(b))"
   ]
  },
  {
   "cell_type": "code",
   "execution_count": 7,
   "metadata": {},
   "outputs": [
    {
     "name": "stdout",
     "output_type": "stream",
     "text": [
      "<class 'complex'>\n"
     ]
    }
   ],
   "source": [
    "c=10+5j\n",
    "print(type(c))"
   ]
  },
  {
   "cell_type": "markdown",
   "metadata": {},
   "source": [
    "## Working with input"
   ]
  },
  {
   "cell_type": "code",
   "execution_count": 8,
   "metadata": {},
   "outputs": [
    {
     "name": "stdout",
     "output_type": "stream",
     "text": [
      "Enter your nameMannika\n",
      "Hello\n",
      "Mannika\n"
     ]
    }
   ],
   "source": [
    "name=input(\"Enter your name\")\n",
    "print(\"Hello\")\n",
    "print(name)"
   ]
  },
  {
   "cell_type": "code",
   "execution_count": 9,
   "metadata": {},
   "outputs": [
    {
     "name": "stdout",
     "output_type": "stream",
     "text": [
      "Enter your nameMannika\n",
      "Hello Mannika\n"
     ]
    }
   ],
   "source": [
    "name=input(\"Enter your name\")\n",
    "print(\"Hello\",end=\" \")\n",
    "print(name)"
   ]
  },
  {
   "cell_type": "markdown",
   "metadata": {},
   "source": [
    "## Reading numbers-Type casting"
   ]
  },
  {
   "cell_type": "code",
   "execution_count": 10,
   "metadata": {},
   "outputs": [
    {
     "name": "stdout",
     "output_type": "stream",
     "text": [
      "Enter a number5\n"
     ]
    },
    {
     "ename": "TypeError",
     "evalue": "can't multiply sequence by non-int of type 'str'",
     "output_type": "error",
     "traceback": [
      "\u001b[1;31m---------------------------------------------------------------------------\u001b[0m",
      "\u001b[1;31mTypeError\u001b[0m                                 Traceback (most recent call last)",
      "\u001b[1;32m<ipython-input-10-391c043cb562>\u001b[0m in \u001b[0;36m<module>\u001b[1;34m()\u001b[0m\n\u001b[0;32m      1\u001b[0m \u001b[0ma\u001b[0m\u001b[1;33m=\u001b[0m\u001b[0minput\u001b[0m\u001b[1;33m(\u001b[0m\u001b[1;34m\"Enter a number\"\u001b[0m\u001b[1;33m)\u001b[0m\u001b[1;33m\u001b[0m\u001b[0m\n\u001b[1;32m----> 2\u001b[1;33m \u001b[0mprint\u001b[0m\u001b[1;33m(\u001b[0m\u001b[1;34m\"Square of the number is\"\u001b[0m\u001b[1;33m+\u001b[0m\u001b[0ma\u001b[0m\u001b[1;33m*\u001b[0m\u001b[0ma\u001b[0m\u001b[1;33m)\u001b[0m\u001b[1;33m\u001b[0m\u001b[0m\n\u001b[0m",
      "\u001b[1;31mTypeError\u001b[0m: can't multiply sequence by non-int of type 'str'"
     ]
    }
   ],
   "source": [
    "#a=input(\"Enter a number\")\n",
    "#print(\"Square of the number is\"+a*a)\n",
    "#this gives an error:-can't multiply sequence by non-int of type 'str'\n"
   ]
  },
  {
   "cell_type": "code",
   "execution_count": 11,
   "metadata": {},
   "outputs": [
    {
     "name": "stdout",
     "output_type": "stream",
     "text": [
      "<class 'str'>\n"
     ]
    }
   ],
   "source": [
    "print(type(a))"
   ]
  },
  {
   "cell_type": "code",
   "execution_count": 12,
   "metadata": {},
   "outputs": [],
   "source": [
    "a=int(a)"
   ]
  },
  {
   "cell_type": "code",
   "execution_count": 13,
   "metadata": {},
   "outputs": [
    {
     "ename": "TypeError",
     "evalue": "can only concatenate str (not \"int\") to str",
     "output_type": "error",
     "traceback": [
      "\u001b[1;31m---------------------------------------------------------------------------\u001b[0m",
      "\u001b[1;31mTypeError\u001b[0m                                 Traceback (most recent call last)",
      "\u001b[1;32m<ipython-input-13-000abf4e4606>\u001b[0m in \u001b[0;36m<module>\u001b[1;34m()\u001b[0m\n\u001b[1;32m----> 1\u001b[1;33m \u001b[0mprint\u001b[0m\u001b[1;33m(\u001b[0m\u001b[1;34m\"Square of the number is\"\u001b[0m\u001b[1;33m+\u001b[0m\u001b[0ma\u001b[0m\u001b[1;33m*\u001b[0m\u001b[0ma\u001b[0m\u001b[1;33m)\u001b[0m\u001b[1;33m\u001b[0m\u001b[0m\n\u001b[0m",
      "\u001b[1;31mTypeError\u001b[0m: can only concatenate str (not \"int\") to str"
     ]
    }
   ],
   "source": [
    "print(\"Square of the number is\"+a*a)"
   ]
  },
  {
   "cell_type": "code",
   "execution_count": 15,
   "metadata": {},
   "outputs": [
    {
     "name": "stdout",
     "output_type": "stream",
     "text": [
      "Enter a number5\n",
      "Square of the number is:25\n"
     ]
    }
   ],
   "source": [
    "a=int(input(\"Enter a number\"))\n",
    "print(\"Square of the number is:\"+str(a*a))"
   ]
  },
  {
   "cell_type": "markdown",
   "metadata": {},
   "source": [
    "## print\n",
    "    - sep\n",
    "    - end\n",
    "    - format"
   ]
  },
  {
   "cell_type": "code",
   "execution_count": 16,
   "metadata": {},
   "outputs": [
    {
     "name": "stdout",
     "output_type": "stream",
     "text": [
      "Mannika Garg is the best\n"
     ]
    }
   ],
   "source": [
    "print(\"Mannika\",\"Garg\",\"is\",\"the\",\"best\")"
   ]
  },
  {
   "cell_type": "code",
   "execution_count": 17,
   "metadata": {},
   "outputs": [
    {
     "name": "stdout",
     "output_type": "stream",
     "text": [
      "Mannika,,Garg,,is,,the,,best\n"
     ]
    }
   ],
   "source": [
    "print(\"Mannika\",\"Garg\",\"is\",\"the\",\"best\",sep=\",,\")"
   ]
  },
  {
   "cell_type": "code",
   "execution_count": 24,
   "metadata": {},
   "outputs": [
    {
     "name": "stdout",
     "output_type": "stream",
     "text": [
      "Mannika\n",
      "Garg\n",
      "is\n",
      "the\n",
      "best\n"
     ]
    }
   ],
   "source": [
    "print(\"Mannika\",\"Garg\",\"is\",\"the\",\"best\",sep=\"\\n\")"
   ]
  },
  {
   "cell_type": "code",
   "execution_count": 25,
   "metadata": {},
   "outputs": [
    {
     "name": "stdout",
     "output_type": "stream",
     "text": [
      "10 and 20\n"
     ]
    }
   ],
   "source": [
    "a=10\n",
    "print(a,end=\" and \")\n",
    "b=20\n",
    "print(b)\n"
   ]
  },
  {
   "cell_type": "code",
   "execution_count": 26,
   "metadata": {},
   "outputs": [],
   "source": [
    "a=\"indians\"\n",
    "b=\"mango\"\n",
    "c=\"pakistanis\"\n",
    "d=\"bananas\"\n"
   ]
  },
  {
   "cell_type": "code",
   "execution_count": 32,
   "metadata": {},
   "outputs": [
    {
     "name": "stdout",
     "output_type": "stream",
     "text": [
      "pakistanis love bananas\n"
     ]
    }
   ],
   "source": [
    "print(\"{0} love {1}\" .format(c,d))"
   ]
  },
  {
   "cell_type": "code",
   "execution_count": 33,
   "metadata": {},
   "outputs": [
    {
     "name": "stdout",
     "output_type": "stream",
     "text": [
      "indians love mango\n"
     ]
    }
   ],
   "source": [
    "print(\"%s love %s\" %(a,b))"
   ]
  },
  {
   "cell_type": "markdown",
   "metadata": {},
   "source": [
    "## precision in float\n"
   ]
  },
  {
   "cell_type": "code",
   "execution_count": 37,
   "metadata": {},
   "outputs": [
    {
     "name": "stdout",
     "output_type": "stream",
     "text": [
      "2.3333\n"
     ]
    }
   ],
   "source": [
    "#for precision upto 4 decimal places\n",
    "a=7\n",
    "b=3\n",
    "print(\"%0.4f\"%(a/b))"
   ]
  },
  {
   "cell_type": "markdown",
   "metadata": {},
   "source": [
    "## multiple variable assignment"
   ]
  },
  {
   "cell_type": "code",
   "execution_count": 38,
   "metadata": {},
   "outputs": [],
   "source": [
    "a,b,c=10,4.5,\"hello\""
   ]
  },
  {
   "cell_type": "code",
   "execution_count": 39,
   "metadata": {},
   "outputs": [
    {
     "name": "stdout",
     "output_type": "stream",
     "text": [
      "10 4.5 hello\n"
     ]
    }
   ],
   "source": [
    "print(a,b,c)"
   ]
  },
  {
   "cell_type": "code",
   "execution_count": 1,
   "metadata": {},
   "outputs": [
    {
     "name": "stdout",
     "output_type": "stream",
     "text": [
      "17\n"
     ]
    }
   ],
   "source": [
    "y=6\n",
    "a=2*y+5\n",
    "print(a)"
   ]
  },
  {
   "cell_type": "code",
   "execution_count": 2,
   "metadata": {},
   "outputs": [
    {
     "name": "stdout",
     "output_type": "stream",
     "text": [
      "Enter a number:-5\n",
      "-1\n"
     ]
    }
   ],
   "source": [
    "a=int(input(\"Enter a number:\"))\n",
    "\n",
    "if a<0:\n",
    "    print(-1)\n",
    "elif a==0:\n",
    "    print(0)\n",
    "else:\n",
    "    print(1)\n",
    "    "
   ]
  },
  {
   "cell_type": "markdown",
   "metadata": {},
   "source": [
    "## Loops in python\n"
   ]
  },
  {
   "cell_type": "code",
   "execution_count": 2,
   "metadata": {},
   "outputs": [
    {
     "name": "stdout",
     "output_type": "stream",
     "text": [
      "Step 1\n",
      "Step 2\n",
      "Step 3\n",
      "Step 4\n",
      "Step 5\n",
      "Step 6\n",
      "Step 7\n",
      "Step 8\n",
      "Step 9\n",
      "Step 10\n",
      "Loop ended\n"
     ]
    }
   ],
   "source": [
    "n=10\n",
    "i=1\n",
    "\n",
    "while(i<=10):\n",
    "    print(\"Step %d\"%i)\n",
    "    i+=1   #python does not have i++ functionality\n",
    "    #i++\n",
    "print(\"Loop ended\")"
   ]
  },
  {
   "cell_type": "code",
   "execution_count": null,
   "metadata": {},
   "outputs": [],
   "source": [
    "i=1\n",
    "\n",
    "for j in range(1,11):\n",
    "    i*=j\n",
    "print(i)"
   ]
  },
  {
   "cell_type": "code",
   "execution_count": 11,
   "metadata": {},
   "outputs": [
    {
     "name": "stdout",
     "output_type": "stream",
     "text": [
      "8 8 8 8 8  \n",
      "8 8 8 8 8  \n",
      "8 8 8 8 8  \n",
      "8 8 8 8 8  \n",
      "8 8 8 8 8  \n"
     ]
    }
   ],
   "source": [
    "for i in range(5):\n",
    "    for j in range(5):\n",
    "        print(5+3,end=\" \")\n",
    "    print(\" \")\n",
    "        "
   ]
  },
  {
   "cell_type": "markdown",
   "metadata": {},
   "source": [
    "## Break continue and pass statements"
   ]
  },
  {
   "cell_type": "code",
   "execution_count": 3,
   "metadata": {},
   "outputs": [
    {
     "name": "stdout",
     "output_type": "stream",
     "text": [
      "0 1 2 3 4 "
     ]
    }
   ],
   "source": [
    " for i in range(10):\n",
    "        if i==5:\n",
    "            break;\n",
    "        print(i,end=\" \")"
   ]
  },
  {
   "cell_type": "code",
   "execution_count": 4,
   "metadata": {},
   "outputs": [
    {
     "name": "stdout",
     "output_type": "stream",
     "text": [
      "0 1 2 3 4 6 7 8 9 "
     ]
    }
   ],
   "source": [
    " for i in range(10):\n",
    "        if i==5:\n",
    "            continue;\n",
    "        print(i,end=\" \")"
   ]
  },
  {
   "cell_type": "code",
   "execution_count": 13,
   "metadata": {},
   "outputs": [
    {
     "name": "stdout",
     "output_type": "stream",
     "text": [
      "0 1 2 3 4 5 6 7 8 9 "
     ]
    }
   ],
   "source": [
    " for i in range(10):\n",
    "        if i==5:\n",
    "            pass;\n",
    "        print(i,end=\" \")"
   ]
  },
  {
   "cell_type": "code",
   "execution_count": 2,
   "metadata": {},
   "outputs": [
    {
     "name": "stdout",
     "output_type": "stream",
     "text": [
      "3 5 7 11 13 17 19 "
     ]
    }
   ],
   "source": [
    "#printing pprime numbers\n",
    "import math\n",
    "prime=True; \n",
    "for i in range(3,21):\n",
    "    prime=True\n",
    "    for j in range(2,math.floor(i/2)+1):\n",
    "        if i%j==0:\n",
    "            prime=False\n",
    "    if prime==True:\n",
    "        print(i,end=\" \")"
   ]
  },
  {
   "cell_type": "markdown",
   "metadata": {},
   "source": [
    "## Default argument values & local Global Variables"
   ]
  },
  {
   "cell_type": "code",
   "execution_count": 4,
   "metadata": {},
   "outputs": [
    {
     "name": "stdout",
     "output_type": "stream",
     "text": [
      "I love Javascript\n",
      "I love Python\n"
     ]
    }
   ],
   "source": [
    "def say(x=\"Python\"):\n",
    "    print(\"I love %s\"%x)\n",
    "say(\"Javascript\")\n",
    "say()"
   ]
  },
  {
   "cell_type": "markdown",
   "metadata": {},
   "source": [
    "##  Recursive Funtion"
   ]
  },
  {
   "cell_type": "code",
   "execution_count": 5,
   "metadata": {},
   "outputs": [
    {
     "data": {
      "text/plain": [
       "24"
      ]
     },
     "execution_count": 5,
     "metadata": {},
     "output_type": "execute_result"
    }
   ],
   "source": [
    "def fact(n):\n",
    "    if n<=1:\n",
    "        return 1\n",
    "    else:\n",
    "        return(n*fact(n-1))\n",
    "fact(4)"
   ]
  },
  {
   "cell_type": "markdown",
   "metadata": {},
   "source": [
    "## Quick sort"
   ]
  },
  {
   "cell_type": "code",
   "execution_count": 1,
   "metadata": {},
   "outputs": [
    {
     "ename": "SyntaxError",
     "evalue": "invalid syntax (<ipython-input-1-cadad01d1267>, line 1)",
     "output_type": "error",
     "traceback": [
      "\u001b[1;36m  File \u001b[1;32m\"<ipython-input-1-cadad01d1267>\"\u001b[1;36m, line \u001b[1;32m1\u001b[0m\n\u001b[1;33m    def q_sort(x[]):\u001b[0m\n\u001b[1;37m                ^\u001b[0m\n\u001b[1;31mSyntaxError\u001b[0m\u001b[1;31m:\u001b[0m invalid syntax\n"
     ]
    }
   ],
   "source": [
    "def q_sort(x[]):\n",
    "    "
   ]
  },
  {
   "cell_type": "markdown",
   "metadata": {},
   "source": [
    "### Strings"
   ]
  },
  {
   "cell_type": "code",
   "execution_count": 10,
   "metadata": {},
   "outputs": [
    {
     "name": "stdout",
     "output_type": "stream",
     "text": [
      "n\n",
      "anni\n",
      "a\n"
     ]
    }
   ],
   "source": [
    "a=\"Mannika\"\n",
    "print(a[2])\n",
    "print(a[1:-2]) \n",
    "print(a[-1])"
   ]
  },
  {
   "cell_type": "code",
   "execution_count": 11,
   "metadata": {},
   "outputs": [
    {
     "name": "stdout",
     "output_type": "stream",
     "text": [
      "7\n"
     ]
    }
   ],
   "source": [
    "print(len(a))"
   ]
  },
  {
   "cell_type": "code",
   "execution_count": 16,
   "metadata": {},
   "outputs": [
    {
     "name": "stdout",
     "output_type": "stream",
     "text": [
      "Mannika is the best\n",
      "MannikaMannikaMannikaMannikaMannika\n"
     ]
    }
   ],
   "source": [
    "b=\"is the best\"\n",
    "print(a+\" \"+b)\n",
    "print(a*5)\n"
   ]
  },
  {
   "cell_type": "markdown",
   "metadata": {},
   "source": [
    "## Iterate the string"
   ]
  },
  {
   "cell_type": "code",
   "execution_count": 13,
   "metadata": {},
   "outputs": [
    {
     "name": "stdout",
     "output_type": "stream",
     "text": [
      "M\n",
      "a\n",
      "n\n",
      "n\n",
      "i\n",
      "k\n",
      "a\n"
     ]
    }
   ],
   "source": [
    "for i in range(len(a)):\n",
    "    print(a[i])"
   ]
  },
  {
   "cell_type": "code",
   "execution_count": 15,
   "metadata": {},
   "outputs": [
    {
     "name": "stdout",
     "output_type": "stream",
     "text": [
      "M\n",
      "a\n",
      "n\n",
      "n\n",
      "i\n",
      "k\n",
      "a\n"
     ]
    }
   ],
   "source": [
    "for c in a:\n",
    "    print(c)\n",
    "    "
   ]
  },
  {
   "cell_type": "markdown",
   "metadata": {},
   "source": [
    "## Range slicing\n"
   ]
  },
  {
   "cell_type": "code",
   "execution_count": 22,
   "metadata": {},
   "outputs": [
    {
     "name": "stdout",
     "output_type": "stream",
     "text": [
      "nnika\n",
      "annik\n",
      "anni\n",
      "a\n"
     ]
    }
   ],
   "source": [
    "print(a[2:])\n",
    "print(a[1:6])\n",
    "print(a[1:-2])\n",
    "print(a[-1:8])"
   ]
  },
  {
   "cell_type": "markdown",
   "metadata": {},
   "source": [
    "### Membership: Substring is present in bigger string"
   ]
  },
  {
   "cell_type": "code",
   "execution_count": 24,
   "metadata": {},
   "outputs": [
    {
     "data": {
      "text/plain": [
       "True"
      ]
     },
     "execution_count": 24,
     "metadata": {},
     "output_type": "execute_result"
    }
   ],
   "source": [
    "a=\"Mango\"\n",
    "\"go\" in a"
   ]
  },
  {
   "cell_type": "markdown",
   "metadata": {},
   "source": [
    "### String formating"
   ]
  },
  {
   "cell_type": "code",
   "execution_count": 32,
   "metadata": {},
   "outputs": [
    {
     "name": "stdout",
     "output_type": "stream",
     "text": [
      "Mannika is the best\n"
     ]
    }
   ],
   "source": [
    "print(\"%s is the %s\" %(\"Mannika\",\"best\"))"
   ]
  },
  {
   "cell_type": "code",
   "execution_count": 35,
   "metadata": {},
   "outputs": [
    {
     "name": "stdout",
     "output_type": "stream",
     "text": [
      "Mannika\n",
      "is the best\n"
     ]
    }
   ],
   "source": [
    "a=\"\"\"Mannika\n",
    "is the best\"\"\"\n",
    "print(a)"
   ]
  },
  {
   "cell_type": "code",
   "execution_count": 36,
   "metadata": {},
   "outputs": [
    {
     "name": "stdout",
     "output_type": "stream",
     "text": [
      "['Mango', 'is', 'a', 'fruit']\n",
      "<class 'list'>\n",
      "<class 'str'>\n"
     ]
    }
   ],
   "source": [
    "a=\"Mango is a fruit\"\n",
    "l=a.split()\n",
    "print(l)\n",
    "print(type(l))\n",
    "print(type(l[0]))"
   ]
  },
  {
   "cell_type": "code",
   "execution_count": 37,
   "metadata": {},
   "outputs": [
    {
     "name": "stdout",
     "output_type": "stream",
     "text": [
      "['How are', 'you man?', 'are you fine?']\n",
      "HOW ARE\n",
      "YOU MAN?\n",
      "ARE YOU FINE?\n"
     ]
    }
   ],
   "source": [
    "b=\"\"\"How are\n",
    "you man?\n",
    "are you fine?\"\"\"\n",
    "\n",
    "l=b.splitlines()\n",
    "print(l)\n",
    "print(b.upper())"
   ]
  },
  {
   "cell_type": "markdown",
   "metadata": {},
   "source": [
    "### DATA STRUCTURS IN PYTHON\n",
    "    1.Strings\n",
    "    2.Lists\n",
    "    3.Tuples\n",
    "    4.Dictionaries \n",
    "    4.Set"
   ]
  },
  {
   "cell_type": "markdown",
   "metadata": {},
   "source": [
    "##### Lists-->Like arrays, heterogeneous lists"
   ]
  },
  {
   "cell_type": "code",
   "execution_count": 14,
   "metadata": {},
   "outputs": [
    {
     "name": "stdout",
     "output_type": "stream",
     "text": [
      "[1, 2, 3, 'Mannika']\n",
      "<class 'list'>\n"
     ]
    }
   ],
   "source": [
    "my_list=[1,2,3,\"Mannika\"]\n",
    "print(my_list)\n",
    "print(type(my_list))"
   ]
  },
  {
   "cell_type": "code",
   "execution_count": 29,
   "metadata": {},
   "outputs": [
    {
     "name": "stdout",
     "output_type": "stream",
     "text": [
      "[1, 2, 3, 1, 2, 3]\n",
      "[1, 2, 3]\n"
     ]
    }
   ],
   "source": [
    "l1=[1,2,3]\n",
    "l2=l1\n",
    "l2=l1+l2\n",
    "print(l2)\n",
    "print(l1)\n"
   ]
  },
  {
   "cell_type": "code",
   "execution_count": 30,
   "metadata": {},
   "outputs": [
    {
     "name": "stdout",
     "output_type": "stream",
     "text": [
      "[1, 2, 3, 4, 5, 6]\n"
     ]
    }
   ],
   "source": [
    "l3=[4,5,6]\n",
    "l1.extend(l3)    #you can also use extend instead of + for concatination\n",
    "print(l1)"
   ]
  },
  {
   "cell_type": "code",
   "execution_count": 2,
   "metadata": {},
   "outputs": [
    {
     "name": "stdout",
     "output_type": "stream",
     "text": [
      "[1, 4, 9, 16, 25]\n"
     ]
    }
   ],
   "source": [
    "#list of square numbers from 1 to 5\n",
    "l=[n*n for n in range(1,6)]\n",
    "print(l)"
   ]
  },
  {
   "cell_type": "markdown",
   "metadata": {},
   "source": [
    "## Insersetion and deletion in a list\n",
    "  1. append                \n",
    "  2. insert\n",
    "  3. remove\n",
    "  4. del\n",
    "  5. pop"
   ]
  },
  {
   "cell_type": "code",
   "execution_count": 14,
   "metadata": {},
   "outputs": [
    {
     "name": "stdout",
     "output_type": "stream",
     "text": [
      "[4, 5, 6]\n"
     ]
    }
   ],
   "source": [
    "l1=[1,2,3]\n",
    "l2=[4,5]\n",
    "l2.append(6)\n",
    "print(l2)"
   ]
  },
  {
   "cell_type": "code",
   "execution_count": 15,
   "metadata": {},
   "outputs": [
    {
     "name": "stdout",
     "output_type": "stream",
     "text": [
      "[1, 2, 3, [4, 5, 6]]\n"
     ]
    }
   ],
   "source": [
    "l1.append(l2)\n",
    "print(l1)"
   ]
  },
  {
   "cell_type": "code",
   "execution_count": 16,
   "metadata": {},
   "outputs": [
    {
     "name": "stdout",
     "output_type": "stream",
     "text": [
      "5\n"
     ]
    }
   ],
   "source": [
    "print(l1[3][1])"
   ]
  },
  {
   "cell_type": "code",
   "execution_count": 17,
   "metadata": {},
   "outputs": [
    {
     "name": "stdout",
     "output_type": "stream",
     "text": [
      "[1, 2, 3, [4, 5, 6], 7]\n"
     ]
    }
   ],
   "source": [
    "##INSERT\n",
    "l1.insert(4,7)\n",
    "print(l1)"
   ]
  },
  {
   "cell_type": "code",
   "execution_count": 18,
   "metadata": {},
   "outputs": [
    {
     "ename": "ValueError",
     "evalue": "list.remove(x): x not in list",
     "output_type": "error",
     "traceback": [
      "\u001b[1;31m---------------------------------------------------------------------------\u001b[0m",
      "\u001b[1;31mValueError\u001b[0m                                Traceback (most recent call last)",
      "\u001b[1;32m<ipython-input-18-83e9494643b9>\u001b[0m in \u001b[0;36m<module>\u001b[1;34m()\u001b[0m\n\u001b[0;32m      1\u001b[0m \u001b[1;31m##REMOVE--> removes the element you want to delete\u001b[0m\u001b[1;33m\u001b[0m\u001b[1;33m\u001b[0m\u001b[0m\n\u001b[1;32m----> 2\u001b[1;33m \u001b[0ml1\u001b[0m\u001b[1;33m.\u001b[0m\u001b[0mremove\u001b[0m\u001b[1;33m(\u001b[0m\u001b[1;36m8\u001b[0m\u001b[1;33m)\u001b[0m\u001b[1;33m\u001b[0m\u001b[0m\n\u001b[0m",
      "\u001b[1;31mValueError\u001b[0m: list.remove(x): x not in list"
     ]
    }
   ],
   "source": [
    "##REMOVE--> removes the element you want to delete\n",
    "l1.remove(8)"
   ]
  },
  {
   "cell_type": "code",
   "execution_count": 19,
   "metadata": {},
   "outputs": [
    {
     "name": "stdout",
     "output_type": "stream",
     "text": [
      "[1, 2, [4, 5, 6], 7]\n"
     ]
    }
   ],
   "source": [
    "l1.remove(3)\n",
    "print(l1)"
   ]
  },
  {
   "cell_type": "code",
   "execution_count": 23,
   "metadata": {},
   "outputs": [
    {
     "name": "stdout",
     "output_type": "stream",
     "text": [
      "[1, 2, 7]\n"
     ]
    }
   ],
   "source": [
    "##DEL --> index wise deletion\n",
    "del l1[2]\n",
    "print(l1)\n"
   ]
  },
  {
   "cell_type": "code",
   "execution_count": 24,
   "metadata": {},
   "outputs": [
    {
     "name": "stdout",
     "output_type": "stream",
     "text": [
      "[1, 2]\n"
     ]
    }
   ],
   "source": [
    "##POP\n",
    "l1.pop()\n",
    "print(l1)"
   ]
  },
  {
   "cell_type": "code",
   "execution_count": 26,
   "metadata": {},
   "outputs": [
    {
     "name": "stdout",
     "output_type": "stream",
     "text": [
      "[1, 2, 1, 2]\n"
     ]
    }
   ],
   "source": [
    "print(l1*2)"
   ]
  },
  {
   "cell_type": "code",
   "execution_count": 28,
   "metadata": {},
   "outputs": [
    {
     "data": {
      "text/plain": [
       "True"
      ]
     },
     "execution_count": 28,
     "metadata": {},
     "output_type": "execute_result"
    }
   ],
   "source": [
    "2 in l1\n"
   ]
  },
  {
   "cell_type": "markdown",
   "metadata": {},
   "source": [
    "### Serching and sorting a list"
   ]
  },
  {
   "cell_type": "code",
   "execution_count": 38,
   "metadata": {},
   "outputs": [
    {
     "name": "stdout",
     "output_type": "stream",
     "text": [
      "2\n"
     ]
    }
   ],
   "source": [
    "#linear search\n",
    "l=[4,3,24,76,87,2,1]\n",
    "print(l.index(24))"
   ]
  },
  {
   "cell_type": "code",
   "execution_count": 39,
   "metadata": {},
   "outputs": [
    {
     "data": {
      "text/plain": [
       "87"
      ]
     },
     "execution_count": 39,
     "metadata": {},
     "output_type": "execute_result"
    }
   ],
   "source": [
    "max(l)"
   ]
  },
  {
   "cell_type": "code",
   "execution_count": 40,
   "metadata": {},
   "outputs": [
    {
     "data": {
      "text/plain": [
       "1"
      ]
     },
     "execution_count": 40,
     "metadata": {},
     "output_type": "execute_result"
    }
   ],
   "source": [
    "min(l)"
   ]
  },
  {
   "cell_type": "code",
   "execution_count": 41,
   "metadata": {},
   "outputs": [
    {
     "name": "stdout",
     "output_type": "stream",
     "text": [
      "[1, 2, 3, 4, 24, 76, 87]\n",
      "[4, 3, 24, 76, 87, 2, 1]\n",
      "[1, 2, 3, 4, 24, 76, 87]\n"
     ]
    }
   ],
   "source": [
    "#sorting\n",
    "print(sorted(l)) #does not change the original list\n",
    "print(l)\n",
    "l=sorted(l)\n",
    "print(l)\n"
   ]
  },
  {
   "cell_type": "code",
   "execution_count": 42,
   "metadata": {},
   "outputs": [
    {
     "name": "stdout",
     "output_type": "stream",
     "text": [
      "[1, 2, 3, 4, 24, 76, 87]\n"
     ]
    }
   ],
   "source": [
    "l=[4, 3, 24, 76, 87, 2, 1]\n",
    "l.sort()\n",
    "print(l)"
   ]
  },
  {
   "cell_type": "code",
   "execution_count": 44,
   "metadata": {},
   "outputs": [
    {
     "name": "stdout",
     "output_type": "stream",
     "text": [
      "[87, 76, 24, 4, 3, 2, 1]\n"
     ]
    }
   ],
   "source": [
    "l.sort(reverse=True)\n",
    "print(l)"
   ]
  },
  {
   "cell_type": "code",
   "execution_count": 45,
   "metadata": {},
   "outputs": [
    {
     "name": "stdout",
     "output_type": "stream",
     "text": [
      "1 2 3 4\n",
      "['1', '2', '3', '4']\n",
      "<class 'list'>\n",
      "<class 'str'>\n"
     ]
    }
   ],
   "source": [
    "num=input().split()\n",
    "print(num)\n",
    "print(type(num))\n",
    "print(type(num[1]))"
   ]
  },
  {
   "cell_type": "code",
   "execution_count": 46,
   "metadata": {},
   "outputs": [
    {
     "name": "stdout",
     "output_type": "stream",
     "text": [
      "1 2 3 4 \n",
      "[1, 2, 3, 4]\n",
      "<class 'list'>\n",
      "<class 'int'>\n"
     ]
    }
   ],
   "source": [
    "num=[int(n) for n in input().split()]\n",
    "print(num)\n",
    "print(type(num))\n",
    "print(type(num[1]))"
   ]
  },
  {
   "cell_type": "markdown",
   "metadata": {},
   "source": [
    "# DICTIONARY\n",
    "    1. store info in key, value pair\n",
    "    2. lookup value for any key, key unique\n",
    "    3. key values are not stored in any order\n",
    "    "
   ]
  },
  {
   "cell_type": "code",
   "execution_count": 47,
   "metadata": {},
   "outputs": [
    {
     "name": "stdout",
     "output_type": "stream",
     "text": [
      "<class 'dict'>\n"
     ]
    }
   ],
   "source": [
    "d={}\n",
    "print(type(d))"
   ]
  },
  {
   "cell_type": "code",
   "execution_count": 48,
   "metadata": {},
   "outputs": [
    {
     "name": "stdout",
     "output_type": "stream",
     "text": [
      "{'mango': 100, 'orange': 180, 'grape': 90}\n",
      "100\n"
     ]
    }
   ],
   "source": [
    "d={\"mango\":100,\"orange\":180,\"grape\":90}\n",
    "print(d)\n",
    "print(d[\"mango\"])"
   ]
  },
  {
   "cell_type": "code",
   "execution_count": 50,
   "metadata": {},
   "outputs": [
    {
     "name": "stdout",
     "output_type": "stream",
     "text": [
      "{'mango': 100, 'orange': 180, 'grape': 90, 'guava': 70.9}\n"
     ]
    }
   ],
   "source": [
    "## Adding new element\n",
    "d[\"guava\"]=70.9\n",
    "print(d)"
   ]
  },
  {
   "cell_type": "code",
   "execution_count": 52,
   "metadata": {},
   "outputs": [
    {
     "name": "stdout",
     "output_type": "stream",
     "text": [
      "{'small': 30, 'large': 90}\n",
      "30\n"
     ]
    }
   ],
   "source": [
    "d[\"pineapple\"]={\"small\":30,\"large\":90}\n",
    "print(d[\"pineapple\"])\n",
    "print(d[\"pineapple\"][\"small\"])"
   ]
  },
  {
   "cell_type": "code",
   "execution_count": 55,
   "metadata": {},
   "outputs": [
    {
     "name": "stdout",
     "output_type": "stream",
     "text": [
      "dict_keys(['mango', 'orange', 'grape', 'guava', 'pineapple'])\n"
     ]
    }
   ],
   "source": [
    "print(d.keys())"
   ]
  },
  {
   "cell_type": "code",
   "execution_count": 56,
   "metadata": {},
   "outputs": [
    {
     "name": "stdout",
     "output_type": "stream",
     "text": [
      "dict_values([100, 180, 90, 70.9, {'small': 30, 'large': 90}])\n"
     ]
    }
   ],
   "source": [
    "print(d.values())"
   ]
  },
  {
   "cell_type": "markdown",
   "metadata": {},
   "source": [
    "### Some common dictionary methods and operations\n",
    "1. get()\n",
    "2. items()\n",
    "3. keys()\n",
    "4. values()\n",
    "5. clear()\n",
    "6. update()\n",
    "7. in, not in\n",
    "8. del"
   ]
  },
  {
   "cell_type": "code",
   "execution_count": 57,
   "metadata": {},
   "outputs": [
    {
     "ename": "KeyError",
     "evalue": "'lol'",
     "output_type": "error",
     "traceback": [
      "\u001b[1;31m---------------------------------------------------------------------------\u001b[0m",
      "\u001b[1;31mKeyError\u001b[0m                                  Traceback (most recent call last)",
      "\u001b[1;32m<ipython-input-57-a64077c56226>\u001b[0m in \u001b[0;36m<module>\u001b[1;34m()\u001b[0m\n\u001b[1;32m----> 1\u001b[1;33m \u001b[0mprint\u001b[0m\u001b[1;33m(\u001b[0m\u001b[0md\u001b[0m\u001b[1;33m[\u001b[0m\u001b[1;34m\"lol\"\u001b[0m\u001b[1;33m]\u001b[0m\u001b[1;33m)\u001b[0m\u001b[1;33m\u001b[0m\u001b[0m\n\u001b[0m",
      "\u001b[1;31mKeyError\u001b[0m: 'lol'"
     ]
    }
   ],
   "source": [
    "print(d[\"lol\"])"
   ]
  },
  {
   "cell_type": "code",
   "execution_count": 59,
   "metadata": {},
   "outputs": [
    {
     "name": "stdout",
     "output_type": "stream",
     "text": [
      "None\n",
      "<class 'NoneType'>\n"
     ]
    }
   ],
   "source": [
    "## get --> get value of the given key\n",
    "print(d.get(\"lol\"))\n",
    "print(type(d.get(\"lol\")))"
   ]
  },
  {
   "cell_type": "code",
   "execution_count": 69,
   "metadata": {},
   "outputs": [
    {
     "name": "stdout",
     "output_type": "stream",
     "text": [
      "Enter a fruit: apple\n",
      "Apple not available\n"
     ]
    }
   ],
   "source": [
    "fruit=input(\"Enter a fruit: \")\n",
    "if fruit in d:\n",
    "    print(\"price of %s is %d\" %(fruit,d.get(fruit)))\n",
    "else:\n",
    "    print(\"%s not available\" %(fruit.capitalize()))\n",
    "          "
   ]
  },
  {
   "cell_type": "code",
   "execution_count": 70,
   "metadata": {},
   "outputs": [
    {
     "name": "stdout",
     "output_type": "stream",
     "text": [
      "dict_items([('mango', 100), ('orange', 180), ('grape', 90), ('guava', 70.9), ('pineapple', {'small': 30, 'large': 90})])\n",
      "<class 'dict_items'>\n"
     ]
    }
   ],
   "source": [
    "## keys() and values() returns a list of keys and values\n",
    "## items returns a list of tupple(key value pair in case of dictionary)\n",
    "\n",
    "print(d.items())\n",
    "print(type(d.items()))"
   ]
  },
  {
   "cell_type": "code",
   "execution_count": 71,
   "metadata": {},
   "outputs": [
    {
     "name": "stdout",
     "output_type": "stream",
     "text": [
      "[('mango', 100), ('orange', 180), ('grape', 90), ('guava', 70.9), ('pineapple', {'small': 30, 'large': 90})]\n"
     ]
    }
   ],
   "source": [
    "l=list(d.items())\n",
    "print(l)"
   ]
  },
  {
   "cell_type": "code",
   "execution_count": 72,
   "metadata": {},
   "outputs": [],
   "source": [
    "del d[\"mango\"]"
   ]
  },
  {
   "cell_type": "code",
   "execution_count": 73,
   "metadata": {},
   "outputs": [
    {
     "name": "stdout",
     "output_type": "stream",
     "text": [
      "{'orange': 180, 'grape': 90, 'guava': 70.9, 'pineapple': {'small': 30, 'large': 90}}\n"
     ]
    }
   ],
   "source": [
    "print(d)"
   ]
  },
  {
   "cell_type": "code",
   "execution_count": 74,
   "metadata": {},
   "outputs": [
    {
     "name": "stdout",
     "output_type": "stream",
     "text": [
      "{'orange': 180, 'grape': 90, 'guava': 70.9, 'pineapple': {'small': 30, 'large': 90}, 'strawberry': 95}\n"
     ]
    }
   ],
   "source": [
    "## update\n",
    "d2={\"strawberry\":95}\n",
    "d.update(d2)\n",
    "print(d)"
   ]
  },
  {
   "cell_type": "code",
   "execution_count": 75,
   "metadata": {},
   "outputs": [
    {
     "name": "stdout",
     "output_type": "stream",
     "text": [
      "5\n"
     ]
    }
   ],
   "source": [
    "## len\n",
    "print(len(d))"
   ]
  },
  {
   "cell_type": "code",
   "execution_count": 77,
   "metadata": {},
   "outputs": [
    {
     "name": "stdout",
     "output_type": "stream",
     "text": [
      "0\n"
     ]
    }
   ],
   "source": [
    "## clear\n",
    "d.clear()\n",
    "print(len(d))"
   ]
  },
  {
   "cell_type": "code",
   "execution_count": 78,
   "metadata": {},
   "outputs": [],
   "source": [
    "## dictionary to list -->items\n",
    "\n",
    "## lists to dictionary"
   ]
  },
  {
   "cell_type": "code",
   "execution_count": null,
   "metadata": {},
   "outputs": [],
   "source": []
  },
  {
   "cell_type": "markdown",
   "metadata": {},
   "source": [
    "## Working with Numpy- for mathematical operations "
   ]
  },
  {
   "cell_type": "code",
   "execution_count": 1,
   "metadata": {},
   "outputs": [],
   "source": [
    "import numpy as np"
   ]
  },
  {
   "cell_type": "code",
   "execution_count": 4,
   "metadata": {},
   "outputs": [
    {
     "name": "stdout",
     "output_type": "stream",
     "text": [
      "[1 2 3 4 5]\n",
      "<class 'numpy.ndarray'>\n",
      "(5,)\n"
     ]
    }
   ],
   "source": [
    "a=np.array([1,2,3,4,5])\n",
    "print(a)\n",
    "print(type(a))\n",
    "\n",
    "print(a.shape)  #returns a tuple which is dimension of array. a is 1d array. a[]"
   ]
  },
  {
   "cell_type": "code",
   "execution_count": 5,
   "metadata": {},
   "outputs": [
    {
     "name": "stdout",
     "output_type": "stream",
     "text": [
      "(5, 1)\n"
     ]
    }
   ],
   "source": [
    "b=np.array([[1],[2],[3],[4],[5]])\n",
    "print(b.shape)   #2d array. b[][]"
   ]
  },
  {
   "cell_type": "code",
   "execution_count": 7,
   "metadata": {},
   "outputs": [
    {
     "name": "stdout",
     "output_type": "stream",
     "text": [
      "[[1 2 3]\n",
      " [4 5 6]]\n",
      "(2, 3)\n",
      "5\n"
     ]
    }
   ],
   "source": [
    "c=np.array([[1,2,3],[4,5,6]])\n",
    "print(c)\n",
    "print(c.shape)\n",
    "print(c[1][1])"
   ]
  },
  {
   "cell_type": "code",
   "execution_count": 17,
   "metadata": {},
   "outputs": [
    {
     "name": "stdout",
     "output_type": "stream",
     "text": [
      "[[0. 0. 0.]\n",
      " [0. 0. 0.]\n",
      " [0. 0. 0.]]\n",
      "[[1. 1. 1.]\n",
      " [1. 1. 1.]]\n",
      "[[5 5]\n",
      " [5 5]\n",
      " [5 5]]\n",
      "[[1. 0. 0. 0.]\n",
      " [0. 1. 0. 0.]\n",
      " [0. 0. 1. 0.]\n",
      " [0. 0. 0. 1.]]\n",
      "\n",
      "[[0.44434958 0.01678858 0.69934287]\n",
      " [0.08872321 0.70585123 0.44581849]]\n"
     ]
    }
   ],
   "source": [
    "# create zeros, ones,custom array\n",
    "a=np.zeros((3,3))\n",
    "print(a)\n",
    "\n",
    "b=np.ones((2,3))\n",
    "print(b)\n",
    "\n",
    "#Array of some constants\n",
    "c= np.full((3,2),5)\n",
    "print(c)\n",
    "\n",
    "#Identity Mtrix - Size/Square matrix\n",
    "d= np.eye(4)\n",
    "print(d)\n",
    "\n",
    "#Random Matrix\n",
    "randomMatrix= np.random.random((2,3))\n",
    "print(\"\")\n",
    "print(randomMatrix)"
   ]
  },
  {
   "cell_type": "code",
   "execution_count": 18,
   "metadata": {},
   "outputs": [
    {
     "name": "stdout",
     "output_type": "stream",
     "text": [
      "[0.01678858 0.70585123]\n"
     ]
    }
   ],
   "source": [
    "print(randomMatrix[:,1])"
   ]
  },
  {
   "cell_type": "code",
   "execution_count": 19,
   "metadata": {},
   "outputs": [
    {
     "name": "stdout",
     "output_type": "stream",
     "text": [
      "[[0.44434958 0.01678858 0.69934287]\n",
      " [0.08872321 1.         1.        ]]\n"
     ]
    }
   ],
   "source": [
    "randomMatrix[1,1:]=1  #slicing\n",
    "print(randomMatrix)"
   ]
  },
  {
   "cell_type": "code",
   "execution_count": 20,
   "metadata": {},
   "outputs": [
    {
     "name": "stdout",
     "output_type": "stream",
     "text": [
      "[[0. 0. 0.]\n",
      " [0. 0. 0.]\n",
      " [0. 0. 0.]]\n",
      "[[0. 0. 7.]\n",
      " [5. 5. 7.]\n",
      " [0. 0. 7.]]\n"
     ]
    }
   ],
   "source": [
    "## Set some rows and columns with any values\n",
    "z=np.zeros((3,3))\n",
    "print(z)\n",
    "z[1,:]=5\n",
    "z[:,-1]=7\n",
    "print(z)\n"
   ]
  },
  {
   "cell_type": "code",
   "execution_count": 22,
   "metadata": {},
   "outputs": [
    {
     "name": "stdout",
     "output_type": "stream",
     "text": [
      "float64\n",
      "int64\n"
     ]
    }
   ],
   "source": [
    "# Datatypes\n",
    "print(z.dtype)\n",
    "\n",
    "#converting to int\n",
    "z=np.zeros((3,3),dtype=np.int64)\n",
    "print(z.dtype)"
   ]
  },
  {
   "cell_type": "code",
   "execution_count": 25,
   "metadata": {},
   "outputs": [
    {
     "name": "stdout",
     "output_type": "stream",
     "text": [
      "[[ 6  8]\n",
      " [10 12]]\n",
      "[[ 6  8]\n",
      " [10 12]]\n",
      "[[-4 -4]\n",
      " [-4 -4]]\n",
      "[[-4 -4]\n",
      " [-4 -4]]\n"
     ]
    }
   ],
   "source": [
    "#Mathematical operations\n",
    "\n",
    "x=np.array([[1,2],[3,4]])\n",
    "y=np.array([[5,6],[7,8]])\n",
    "\n",
    "#Element Wise Addition\n",
    "print(x+y)\n",
    "    #or\n",
    "print(np.add(x,y))\n",
    "\n",
    "#Element Wise Subtraction\n",
    "print(x-y)\n",
    "    #or\n",
    "print(np.subtract(x,y))\n",
    "\n",
    "#Element Wise Multiplication\n",
    "print(x*y)\n",
    "    #or\n",
    "print(np.multipy(x,y))\n",
    "\n",
    "#Element Wise Addition\n",
    "print(x+y)\n",
    "    #or\n",
    "print(np.add(x,y))"
   ]
  },
  {
   "cell_type": "code",
   "execution_count": null,
   "metadata": {},
   "outputs": [],
   "source": []
  }
 ],
 "metadata": {
  "kernelspec": {
   "display_name": "Python 3",
   "language": "python",
   "name": "python3"
  },
  "language_info": {
   "codemirror_mode": {
    "name": "ipython",
    "version": 3
   },
   "file_extension": ".py",
   "mimetype": "text/x-python",
   "name": "python",
   "nbconvert_exporter": "python",
   "pygments_lexer": "ipython3",
   "version": "3.7.0"
  }
 },
 "nbformat": 4,
 "nbformat_minor": 2
}
